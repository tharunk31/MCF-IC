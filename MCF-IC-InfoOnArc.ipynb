{
 "cells": [
  {
   "cell_type": "code",
   "execution_count": 1,
   "id": "e7f90096",
   "metadata": {},
   "outputs": [],
   "source": [
    "import numpy as np\n",
    "import pandas as pd\n",
    "from gurobipy import GRB\n",
    "import gurobipy as gp\n",
    "import random\n",
    "import networkx as nx\n",
    "import math"
   ]
  },
  {
   "cell_type": "code",
   "execution_count": 2,
   "id": "88b85bf4",
   "metadata": {},
   "outputs": [],
   "source": [
    "NodeCount = 8\n",
    "GraphDensityCoefficient = 0.5\n",
    "MaxCostArc = 20\n",
    "RequiredInfo = 20\n",
    "CommodityCount = 5\n",
    "MaxDemandCommodity = 20\n",
    "MaxCapacityArc = 20\n",
    "\n",
    "random.seed(10)\n",
    "\n",
    "N = [i+1 for i in range(NodeCount)]\n",
    "Commodities = [i+1 for i in range(CommodityCount)]\n",
    "NodeNodeAdjacencyMatrix = np.zeros((NodeCount,NodeCount))\n",
    "\n",
    "\n",
    "ArcProbability = np.zeros((NodeCount,NodeCount))\n",
    "\n",
    "for i in range(NodeCount-1):\n",
    "    for j in range(i+1,NodeCount):\n",
    "        ArcProbability[i,j] = random.uniform(0,1)\n",
    "        if ArcProbability[i,j] > GraphDensityCoefficient:\n",
    "            \n",
    "            NodeNodeAdjacencyMatrix[i,j] = 1\n",
    "            \n",
    "    if sum(NodeNodeAdjacencyMatrix[i]) == 0:\n",
    "        \n",
    "        NodeNodeAdjacencyMatrix[i,NodeCount-1] = 1\n",
    "\n",
    "ArcCount = int(sum(sum(NodeNodeAdjacencyMatrix)))\n",
    "\n"
   ]
  },
  {
   "cell_type": "code",
   "execution_count": 3,
   "id": "53b6af17",
   "metadata": {},
   "outputs": [
    {
     "data": {
      "text/plain": [
       "array([[0., 1., 0., 1., 0., 1., 1., 1.],\n",
       "       [0., 0., 0., 1., 0., 0., 1., 1.],\n",
       "       [0., 0., 0., 0., 1., 1., 0., 0.],\n",
       "       [0., 0., 0., 0., 1., 0., 1., 1.],\n",
       "       [0., 0., 0., 0., 0., 0., 1., 1.],\n",
       "       [0., 0., 0., 0., 0., 0., 1., 1.],\n",
       "       [0., 0., 0., 0., 0., 0., 0., 1.],\n",
       "       [0., 0., 0., 0., 0., 0., 0., 0.]])"
      ]
     },
     "execution_count": 3,
     "metadata": {},
     "output_type": "execute_result"
    }
   ],
   "source": [
    "NodeNodeAdjacencyMatrix"
   ]
  },
  {
   "cell_type": "code",
   "execution_count": 4,
   "id": "2ef9061c",
   "metadata": {},
   "outputs": [
    {
     "data": {
      "text/plain": [
       "18"
      ]
     },
     "execution_count": 4,
     "metadata": {},
     "output_type": "execute_result"
    }
   ],
   "source": [
    "ArcCount    "
   ]
  },
  {
   "cell_type": "code",
   "execution_count": 5,
   "id": "ab028e30",
   "metadata": {},
   "outputs": [],
   "source": [
    "# G = nx.from_numpy_array(NodeNodeAdjacencyMatrix,create_using=nx.DiGraph())\n",
    "# nx.draw_circular(G,arrows=True)"
   ]
  },
  {
   "cell_type": "code",
   "execution_count": 6,
   "id": "9d675762",
   "metadata": {},
   "outputs": [],
   "source": [
    "NodeNodeAdjacencyList = {i:[] for i in N}\n",
    "CostDict = {}\n",
    "CapacityDict = {}\n",
    "ArcDict = {i:0 for i in range(ArcCount)}\n",
    "InfoDict = {i:0 for i in range(ArcCount)}\n",
    "\n",
    "ArcCounter = 0\n",
    "\n",
    "for i in range(NodeCount):\n",
    "    for j in range(NodeCount):\n",
    "        if NodeNodeAdjacencyMatrix[i][j] == 1:\n",
    "            NodeNodeAdjacencyList[i+1].append(j+1)\n",
    "            CostDict[ArcCounter]= random.randint(1,MaxCostArc)\n",
    "            CapacityDict[ArcCounter] = random.randint(MaxCapacityArc/2,MaxCapacityArc)\n",
    "            InfoDict[ArcCounter] = random.randint(0,RequiredInfo/4)\n",
    "            ArcDict[ArcCounter] = (i+1,j+1)\n",
    "            ArcCounter += 1"
   ]
  },
  {
   "cell_type": "code",
   "execution_count": 7,
   "id": "fcf36f00",
   "metadata": {},
   "outputs": [
    {
     "data": {
      "text/plain": [
       "{0: (1, 2),\n",
       " 1: (1, 4),\n",
       " 2: (1, 6),\n",
       " 3: (1, 7),\n",
       " 4: (1, 8),\n",
       " 5: (2, 4),\n",
       " 6: (2, 7),\n",
       " 7: (2, 8),\n",
       " 8: (3, 5),\n",
       " 9: (3, 6),\n",
       " 10: (4, 5),\n",
       " 11: (4, 7),\n",
       " 12: (4, 8),\n",
       " 13: (5, 7),\n",
       " 14: (5, 8),\n",
       " 15: (6, 7),\n",
       " 16: (6, 8),\n",
       " 17: (7, 8)}"
      ]
     },
     "execution_count": 7,
     "metadata": {},
     "output_type": "execute_result"
    }
   ],
   "source": [
    "ArcDict"
   ]
  },
  {
   "cell_type": "code",
   "execution_count": 8,
   "id": "6c393f04",
   "metadata": {},
   "outputs": [
    {
     "data": {
      "text/plain": [
       "{1: [2, 4, 6, 7, 8],\n",
       " 2: [4, 7, 8],\n",
       " 3: [5, 6],\n",
       " 4: [5, 7, 8],\n",
       " 5: [7, 8],\n",
       " 6: [7, 8],\n",
       " 7: [8],\n",
       " 8: []}"
      ]
     },
     "execution_count": 8,
     "metadata": {},
     "output_type": "execute_result"
    }
   ],
   "source": [
    "NodeNodeAdjacencyList"
   ]
  },
  {
   "cell_type": "code",
   "execution_count": 9,
   "id": "85077463",
   "metadata": {},
   "outputs": [
    {
     "data": {
      "text/plain": [
       "{0: 1,\n",
       " 1: 4,\n",
       " 2: 2,\n",
       " 3: 3,\n",
       " 4: 5,\n",
       " 5: 4,\n",
       " 6: 3,\n",
       " 7: 0,\n",
       " 8: 4,\n",
       " 9: 0,\n",
       " 10: 4,\n",
       " 11: 1,\n",
       " 12: 3,\n",
       " 13: 2,\n",
       " 14: 3,\n",
       " 15: 2,\n",
       " 16: 4,\n",
       " 17: 2}"
      ]
     },
     "execution_count": 9,
     "metadata": {},
     "output_type": "execute_result"
    }
   ],
   "source": [
    "InfoDict"
   ]
  },
  {
   "cell_type": "code",
   "execution_count": 10,
   "id": "e571045e",
   "metadata": {},
   "outputs": [
    {
     "data": {
      "text/plain": [
       "{0: 1,\n",
       " 1: 7,\n",
       " 2: 12,\n",
       " 3: 18,\n",
       " 4: 16,\n",
       " 5: 19,\n",
       " 6: 6,\n",
       " 7: 8,\n",
       " 8: 16,\n",
       " 9: 3,\n",
       " 10: 5,\n",
       " 11: 12,\n",
       " 12: 4,\n",
       " 13: 6,\n",
       " 14: 14,\n",
       " 15: 8,\n",
       " 16: 5,\n",
       " 17: 6}"
      ]
     },
     "execution_count": 10,
     "metadata": {},
     "output_type": "execute_result"
    }
   ],
   "source": [
    "CostDict"
   ]
  },
  {
   "cell_type": "code",
   "execution_count": 11,
   "id": "86f990cb",
   "metadata": {},
   "outputs": [
    {
     "data": {
      "text/plain": [
       "{0: 13,\n",
       " 1: 14,\n",
       " 2: 13,\n",
       " 3: 17,\n",
       " 4: 11,\n",
       " 5: 15,\n",
       " 6: 13,\n",
       " 7: 10,\n",
       " 8: 14,\n",
       " 9: 18,\n",
       " 10: 16,\n",
       " 11: 19,\n",
       " 12: 11,\n",
       " 13: 13,\n",
       " 14: 16,\n",
       " 15: 20,\n",
       " 16: 19,\n",
       " 17: 11}"
      ]
     },
     "execution_count": 11,
     "metadata": {},
     "output_type": "execute_result"
    }
   ],
   "source": [
    "CapacityDict"
   ]
  },
  {
   "cell_type": "code",
   "execution_count": 12,
   "id": "4298face",
   "metadata": {},
   "outputs": [
    {
     "data": {
      "text/plain": [
       "[15, 10, 6, 6, 6]"
      ]
     },
     "execution_count": 12,
     "metadata": {},
     "output_type": "execute_result"
    }
   ],
   "source": [
    "B_k = [random.randint(1,MaxDemandCommodity) for i in range(CommodityCount)]\n",
    "B_k"
   ]
  },
  {
   "cell_type": "code",
   "execution_count": 13,
   "id": "4cfe1097",
   "metadata": {},
   "outputs": [],
   "source": [
    "Origin = [random.randint(1,math.floor(NodeCount/2)) for i in range(CommodityCount)]\n",
    "Destination = [random.randint(math.floor(NodeCount/2)+1,NodeCount) for i in range(CommodityCount)]"
   ]
  },
  {
   "cell_type": "code",
   "execution_count": 14,
   "id": "d4f968ff",
   "metadata": {},
   "outputs": [
    {
     "data": {
      "text/plain": [
       "[4, 3, 3, 4, 2]"
      ]
     },
     "execution_count": 14,
     "metadata": {},
     "output_type": "execute_result"
    }
   ],
   "source": [
    "Origin"
   ]
  },
  {
   "cell_type": "code",
   "execution_count": 15,
   "id": "67ce172c",
   "metadata": {},
   "outputs": [
    {
     "data": {
      "text/plain": [
       "[5, 5, 7, 7, 6]"
      ]
     },
     "execution_count": 15,
     "metadata": {},
     "output_type": "execute_result"
    }
   ],
   "source": [
    "Destination"
   ]
  },
  {
   "cell_type": "code",
   "execution_count": 16,
   "id": "dbd4567e",
   "metadata": {},
   "outputs": [],
   "source": [
    "def Reachable(visited, graph, node): \n",
    "    visited.append(node)\n",
    "    queue.append(node)\n",
    "    Reachable = []\n",
    "\n",
    "    while queue:          \n",
    "        m = queue.pop(0) \n",
    "#         print (m, end = \" \") \n",
    "        Reachable.append(m)\n",
    "\n",
    "        for neighbour in graph[m]:\n",
    "            if neighbour not in visited:\n",
    "                visited.append(neighbour)\n",
    "                queue.append(neighbour)\n",
    "    return Reachable"
   ]
  },
  {
   "cell_type": "code",
   "execution_count": 17,
   "id": "f8e2eeec",
   "metadata": {},
   "outputs": [],
   "source": [
    "for i in range(len(Origin)):\n",
    "    visited = [] # List for visited nodes.\n",
    "    queue = []     #Initialize a queue\n",
    "    ReachableList = Reachable(visited,NodeNodeAdjacencyList,Origin[i])\n",
    "#     print(i,Origin[i],Destination[i],ReachableList)\n",
    "    k = len(ReachableList)\n",
    "\n",
    "# #             break\n",
    "    if Destination[i] not in ReachableList:\n",
    "        for j in range(k):\n",
    "            if ReachableList[j]>Origin[i]:\n",
    "                Destination[i] = ReachableList[j]\n",
    "                \n",
    "        "
   ]
  },
  {
   "cell_type": "code",
   "execution_count": 18,
   "id": "91f01ce2",
   "metadata": {},
   "outputs": [
    {
     "data": {
      "text/plain": [
       "[5, 5, 7, 7, 5]"
      ]
     },
     "execution_count": 18,
     "metadata": {},
     "output_type": "execute_result"
    }
   ],
   "source": [
    "Destination"
   ]
  },
  {
   "cell_type": "code",
   "execution_count": 19,
   "id": "c2504295",
   "metadata": {},
   "outputs": [],
   "source": [
    "B_k_Dict = {i:[] for i in Commodities}\n",
    "Origin_Dict = {i:[] for i in Commodities}\n",
    "Destination_Dict = {i:[] for i in Commodities}\n",
    "for i in range(CommodityCount):\n",
    "    B_k_Dict[i+1]=B_k[i]\n",
    "    Origin_Dict[i+1] = Origin[i]\n",
    "    Destination_Dict[i+1] = Destination[i]"
   ]
  },
  {
   "cell_type": "code",
   "execution_count": 20,
   "id": "e7927297",
   "metadata": {},
   "outputs": [
    {
     "data": {
      "text/plain": [
       "{1: [], 2: [5], 3: [5, 7], 4: [5, 7], 5: [], 6: [], 7: [], 8: []}"
      ]
     },
     "execution_count": 20,
     "metadata": {},
     "output_type": "execute_result"
    }
   ],
   "source": [
    "NodeNodeAdjacencyListWithDummyArcs = {i:[] for i in N}\n",
    "# PathCost = {}\n",
    "# CapacityListInitial = {}\n",
    "InitialHighCost = MaxCostArc*ArcCount + 1\n",
    "InitialHighCapacity = MaxDemandCommodity*ArcCount + 1\n",
    "\n",
    "for i in range(len(Origin)):\n",
    "\n",
    "    NodeNodeAdjacencyListWithDummyArcs[Origin[i]].append(Destination[i])\n",
    "\n",
    "NodeNodeAdjacencyListWithDummyArcs"
   ]
  },
  {
   "cell_type": "code",
   "execution_count": 21,
   "id": "55673f89",
   "metadata": {},
   "outputs": [
    {
     "data": {
      "text/plain": [
       "{1: [0], 2: [1], 3: [2], 4: [3], 5: [4]}"
      ]
     },
     "execution_count": 21,
     "metadata": {},
     "output_type": "execute_result"
    }
   ],
   "source": [
    "PathSetForCommodity = {i:[] for i in Commodities}\n",
    "Paths = [i for i in range(CommodityCount)]\n",
    "\n",
    "for i in range(CommodityCount):\n",
    "    PathSetForCommodity[i+1].append(Paths[i])\n",
    "PathSetForCommodity"
   ]
  },
  {
   "cell_type": "code",
   "execution_count": 22,
   "id": "28be709a",
   "metadata": {},
   "outputs": [
    {
     "data": {
      "text/plain": [
       "[0, 1, 2, 3, 4]"
      ]
     },
     "execution_count": 22,
     "metadata": {},
     "output_type": "execute_result"
    }
   ],
   "source": [
    "Paths"
   ]
  },
  {
   "cell_type": "code",
   "execution_count": 23,
   "id": "3e5fe1dc",
   "metadata": {},
   "outputs": [
    {
     "data": {
      "text/plain": [
       "{0: [(4, 5)], 1: [(3, 5)], 2: [(3, 7)], 3: [(4, 7)], 4: [(2, 5)]}"
      ]
     },
     "execution_count": 23,
     "metadata": {},
     "output_type": "execute_result"
    }
   ],
   "source": [
    "PathDict = {i:[] for i in Paths}\n",
    "NodesInPath = {i:[] for i in Paths}\n",
    "for i in Paths:\n",
    "    PathDict[i].append((Origin[i],Destination[i]))\n",
    "    NodesInPath[i].append(Origin[i])\n",
    "    NodesInPath[i].append(Destination[i])\n",
    "PathDict"
   ]
  },
  {
   "cell_type": "code",
   "execution_count": 24,
   "id": "99301f84",
   "metadata": {},
   "outputs": [
    {
     "data": {
      "text/plain": [
       "{0: [4, 5], 1: [3, 5], 2: [3, 7], 3: [4, 7], 4: [2, 5]}"
      ]
     },
     "execution_count": 24,
     "metadata": {},
     "output_type": "execute_result"
    }
   ],
   "source": [
    "NodesInPath"
   ]
  },
  {
   "cell_type": "code",
   "execution_count": 25,
   "id": "c73d89bf",
   "metadata": {},
   "outputs": [],
   "source": [
    "PathCost = {p:InitialHighCost for p in Paths}\n",
    "PathInfo = {p:RequiredInfo for p in Paths}\n",
    "for i in Paths:\n",
    "    for j in range(ArcCount):\n",
    "        if list(ArcDict.values())[j] == (PathDict[i][0]):\n",
    "            ArcIndex = list(ArcDict.values())[j]\n",
    "            PathCost[i] = CostDict[j]\n",
    "            PathInfo[i] = InfoDict[j]\n",
    "# for i in Paths:\n",
    "#     if PathCost[i] == InitialHighCost:\n",
    "#         PathInfo[i] = RequiredInfo\n",
    "\n",
    "        \n",
    "#         else:\n",
    "#             PathCost[i] = InitialHighCost\n",
    "    \n",
    "Counter = 0\n",
    "\n",
    "for i in N:\n",
    "    for j in N:\n",
    "        if (i in Origin) and (j in Destination):\n",
    "            \n",
    "            if NodeNodeAdjacencyMatrix[i-1,j-1] == 0:\n",
    "                CapacityDict[ArcCount+Counter] = InitialHighCapacity\n",
    "                CostDict[ArcCount+Counter] = InitialHighCost\n",
    "                InfoDict[ArcCount+Counter] = RequiredInfo\n",
    "                NodeNodeAdjacencyMatrix[i-1,j-1] = 1\n",
    "                ArcDict[ArcCount+Counter] = (i,j)\n",
    "                \n",
    "                Counter += 1\n",
    "                \n",
    "#             else:\n",
    "#                 PathCost[(i,j)] = CostList[(i,j)]\n",
    "ArcCountWithDummyArcs = ArcCount + Counter"
   ]
  },
  {
   "cell_type": "code",
   "execution_count": null,
   "id": "2a6a07e2",
   "metadata": {},
   "outputs": [],
   "source": []
  },
  {
   "cell_type": "code",
   "execution_count": 26,
   "id": "b45f0d99",
   "metadata": {},
   "outputs": [
    {
     "data": {
      "text/plain": [
       "{0: 4, 1: 4, 2: 20, 3: 1, 4: 20}"
      ]
     },
     "execution_count": 26,
     "metadata": {},
     "output_type": "execute_result"
    }
   ],
   "source": [
    "PathInfo"
   ]
  },
  {
   "cell_type": "code",
   "execution_count": 27,
   "id": "00f9eeff",
   "metadata": {},
   "outputs": [
    {
     "data": {
      "text/plain": [
       "{0: 5, 1: 16, 2: 361, 3: 12, 4: 361}"
      ]
     },
     "execution_count": 27,
     "metadata": {},
     "output_type": "execute_result"
    }
   ],
   "source": [
    "PathCost"
   ]
  },
  {
   "cell_type": "code",
   "execution_count": 28,
   "id": "67cd91f2",
   "metadata": {},
   "outputs": [
    {
     "data": {
      "text/plain": [
       "{0: 13,\n",
       " 1: 14,\n",
       " 2: 13,\n",
       " 3: 17,\n",
       " 4: 11,\n",
       " 5: 15,\n",
       " 6: 13,\n",
       " 7: 10,\n",
       " 8: 14,\n",
       " 9: 18,\n",
       " 10: 16,\n",
       " 11: 19,\n",
       " 12: 11,\n",
       " 13: 13,\n",
       " 14: 16,\n",
       " 15: 20,\n",
       " 16: 19,\n",
       " 17: 11,\n",
       " 18: 361,\n",
       " 19: 361}"
      ]
     },
     "execution_count": 28,
     "metadata": {},
     "output_type": "execute_result"
    }
   ],
   "source": [
    "CapacityDict"
   ]
  },
  {
   "cell_type": "code",
   "execution_count": 29,
   "id": "77c73248",
   "metadata": {},
   "outputs": [
    {
     "data": {
      "text/plain": [
       "{0: 1,\n",
       " 1: 4,\n",
       " 2: 2,\n",
       " 3: 3,\n",
       " 4: 5,\n",
       " 5: 4,\n",
       " 6: 3,\n",
       " 7: 0,\n",
       " 8: 4,\n",
       " 9: 0,\n",
       " 10: 4,\n",
       " 11: 1,\n",
       " 12: 3,\n",
       " 13: 2,\n",
       " 14: 3,\n",
       " 15: 2,\n",
       " 16: 4,\n",
       " 17: 2,\n",
       " 18: 20,\n",
       " 19: 20}"
      ]
     },
     "execution_count": 29,
     "metadata": {},
     "output_type": "execute_result"
    }
   ],
   "source": [
    "InfoDict"
   ]
  },
  {
   "cell_type": "code",
   "execution_count": 30,
   "id": "50dc593b",
   "metadata": {},
   "outputs": [
    {
     "data": {
      "text/plain": [
       "{0: 1,\n",
       " 1: 7,\n",
       " 2: 12,\n",
       " 3: 18,\n",
       " 4: 16,\n",
       " 5: 19,\n",
       " 6: 6,\n",
       " 7: 8,\n",
       " 8: 16,\n",
       " 9: 3,\n",
       " 10: 5,\n",
       " 11: 12,\n",
       " 12: 4,\n",
       " 13: 6,\n",
       " 14: 14,\n",
       " 15: 8,\n",
       " 16: 5,\n",
       " 17: 6,\n",
       " 18: 361,\n",
       " 19: 361}"
      ]
     },
     "execution_count": 30,
     "metadata": {},
     "output_type": "execute_result"
    }
   ],
   "source": [
    "CostDict"
   ]
  },
  {
   "cell_type": "code",
   "execution_count": 31,
   "id": "654a3302",
   "metadata": {},
   "outputs": [
    {
     "data": {
      "text/plain": [
       "{0: (1, 2),\n",
       " 1: (1, 4),\n",
       " 2: (1, 6),\n",
       " 3: (1, 7),\n",
       " 4: (1, 8),\n",
       " 5: (2, 4),\n",
       " 6: (2, 7),\n",
       " 7: (2, 8),\n",
       " 8: (3, 5),\n",
       " 9: (3, 6),\n",
       " 10: (4, 5),\n",
       " 11: (4, 7),\n",
       " 12: (4, 8),\n",
       " 13: (5, 7),\n",
       " 14: (5, 8),\n",
       " 15: (6, 7),\n",
       " 16: (6, 8),\n",
       " 17: (7, 8),\n",
       " 18: (2, 5),\n",
       " 19: (3, 7)}"
      ]
     },
     "execution_count": 31,
     "metadata": {},
     "output_type": "execute_result"
    }
   ],
   "source": [
    "ArcDict"
   ]
  },
  {
   "cell_type": "code",
   "execution_count": 32,
   "id": "a5ff2fd9",
   "metadata": {},
   "outputs": [],
   "source": [
    "Delta_ij_p = {i:[0]*ArcCountWithDummyArcs for i in Paths}\n",
    "\n",
    "for p in Paths:\n",
    "    for i in ArcDict:    \n",
    "            if ArcDict[i] in PathDict[p]:\n",
    "                Delta_ij_p[p][i] = 1\n",
    "# Delta_ij_p"
   ]
  },
  {
   "cell_type": "code",
   "execution_count": 33,
   "id": "c4f284d1",
   "metadata": {},
   "outputs": [
    {
     "data": {
      "text/plain": [
       "array([[0., 1., 0., 1., 0., 1., 1., 1.],\n",
       "       [0., 0., 0., 1., 1., 0., 1., 1.],\n",
       "       [0., 0., 0., 0., 1., 1., 1., 0.],\n",
       "       [0., 0., 0., 0., 1., 0., 1., 1.],\n",
       "       [0., 0., 0., 0., 0., 0., 1., 1.],\n",
       "       [0., 0., 0., 0., 0., 0., 1., 1.],\n",
       "       [0., 0., 0., 0., 0., 0., 0., 1.],\n",
       "       [0., 0., 0., 0., 0., 0., 0., 0.]])"
      ]
     },
     "execution_count": 33,
     "metadata": {},
     "output_type": "execute_result"
    }
   ],
   "source": [
    "NodeNodeAdjacencyMatrix"
   ]
  },
  {
   "cell_type": "code",
   "execution_count": 34,
   "id": "7d9a4f61",
   "metadata": {},
   "outputs": [
    {
     "data": {
      "text/plain": [
       "{(1, 2): 0,\n",
       " (1, 4): 1,\n",
       " (1, 6): 2,\n",
       " (1, 7): 3,\n",
       " (1, 8): 4,\n",
       " (2, 4): 5,\n",
       " (2, 7): 6,\n",
       " (2, 8): 7,\n",
       " (3, 5): 8,\n",
       " (3, 6): 9,\n",
       " (4, 5): 10,\n",
       " (4, 7): 11,\n",
       " (4, 8): 12,\n",
       " (5, 7): 13,\n",
       " (5, 8): 14,\n",
       " (6, 7): 15,\n",
       " (6, 8): 16,\n",
       " (7, 8): 17,\n",
       " (2, 5): 18,\n",
       " (3, 7): 19}"
      ]
     },
     "execution_count": 34,
     "metadata": {},
     "output_type": "execute_result"
    }
   ],
   "source": [
    "ReversedArcDict = {ArcDict[i]:i for i in range(ArcCountWithDummyArcs)}\n",
    "ReversedArcDict"
   ]
  },
  {
   "cell_type": "code",
   "execution_count": 35,
   "id": "432c310e",
   "metadata": {},
   "outputs": [],
   "source": [
    "def PathModel():\n",
    "    m1 = gp.Model(\"PathModel\")\n",
    "    \n",
    "    Flow = m1.addVars(Paths,Commodities,name=\"flow\")\n",
    "\n",
    "    NetworkCost = 0\n",
    "\n",
    "    for k in Commodities:\n",
    "        for p in PathSetForCommodity[k]:\n",
    "            NetworkCost += B_k_Dict[k] * PathCost[p] * Flow[p,k]\n",
    "        for p in Paths:\n",
    "            if p not in PathSetForCommodity[k]:\n",
    "                m1.addConstr(Flow[p,k]==0)\n",
    "    \n",
    "    m1.setObjective(NetworkCost, GRB.MINIMIZE)\n",
    "\n",
    "    ArcFlow = [0]*ArcCountWithDummyArcs\n",
    "    InfoCollected = 0\n",
    "\n",
    "    for k in Commodities:\n",
    "        for p in PathSetForCommodity[k]:\n",
    "            for i in range(len(Delta_ij_p[p])):\n",
    "                if Delta_ij_p[p][i] == 1:\n",
    "                    ArcFlow[i] += B_k_Dict[k] * Flow[p,k]\n",
    "            InfoCollected += PathInfo[p]* Flow[p,k]\n",
    "    \n",
    "    CapacityConstraint = [0]*ArcCountWithDummyArcs\n",
    "    \n",
    "#     for i in range(ArcCountWithDummyArcs):\n",
    "    CapacityConstraint = m1.addConstrs((ArcFlow[i] <= CapacityDict[i] for i in range(ArcCountWithDummyArcs)),name=\"Cap\")\n",
    "        \n",
    "    InfoThresholdConstraint = m1.addConstr(InfoCollected>=RequiredInfo,name=\"InfoT\")\n",
    "    \n",
    "    FlowConstraint = m1.addConstrs(((Flow.sum('*',k))==1 for k in Commodities),name=\"FlowPart\")\n",
    "            \n",
    "    m1.write(\"C:\\PhD IE\\Optimization Models for Large Networks\\path.lp\")\n",
    "#     print(InfoThresholdConstraint)\n",
    "    m1.optimize()\n",
    "    \n",
    "    if m1.Status == GRB.OPTIMAL:\n",
    "        OptimalFlow = m1.getAttr('X',Flow)\n",
    "        ReducedCosts = m1.getAttr('RC',Flow)\n",
    "#         print(ReducedCosts)\n",
    "        Pi_ij = m1.getAttr('Pi',CapacityConstraint)\n",
    "        ThresholdDual = m1.getConstrByName(\"InfoT\")\n",
    "        W = ThresholdDual.Pi\n",
    "        Sigma = m1.getAttr('Pi',FlowConstraint)\n",
    "        for k in Commodities:\n",
    "            for p in PathSetForCommodity[k]:\n",
    "                if OptimalFlow[p,k] != 0:\n",
    "                    print(\"Flow on path\",p,\"by commodity\",k,\"=\",OptimalFlow[p,k]*B_k_Dict[k],\"units.\")\n",
    "    return Pi_ij,W,Sigma"
   ]
  },
  {
   "cell_type": "code",
   "execution_count": 36,
   "id": "9d862d1b",
   "metadata": {},
   "outputs": [],
   "source": [
    "def PathModel2():\n",
    "    m1 = gp.Model(\"PathModel\")\n",
    "    \n",
    "    BigM = sum(B_k)*10 + RequiredInfo*ArcCountWithDummyArcs\n",
    "    \n",
    "    Flow = m1.addVars(Paths,Commodities,name=\"flow\")\n",
    "    Y = m1.addVars(ArcCountWithDummyArcs,Commodities,name=\"info\")\n",
    "\n",
    "    NetworkCost = 0\n",
    "\n",
    "    for k in Commodities:\n",
    "        for p in PathSetForCommodity[k]:\n",
    "            NetworkCost += B_k_Dict[k] * PathCost[p] * Flow[p,k]\n",
    "        for p in Paths:\n",
    "            if p not in PathSetForCommodity[k]:\n",
    "                m1.addConstr(Flow[p,k]==0)\n",
    "    \n",
    "    m1.setObjective(NetworkCost, GRB.MINIMIZE)\n",
    "\n",
    "    ArcFlow = [0]*ArcCountWithDummyArcs\n",
    "    InfoCollected = 0\n",
    "\n",
    "    for k in Commodities:\n",
    "        for p in PathSetForCommodity[k]:\n",
    "            for i in range(len(Delta_ij_p[p])):\n",
    "                if Delta_ij_p[p][i] == 1:\n",
    "                    ArcFlow[i] += B_k_Dict[k] * Flow[p,k]\n",
    "                    InfoCollected += InfoDict[i]* Y[i,k]\n",
    "    \n",
    "    CapacityConstraint = [0]*ArcCountWithDummyArcs\n",
    "    \n",
    "#     for i in range(ArcCountWithDummyArcs):\n",
    "    CapacityConstraint = m1.addConstrs((ArcFlow[i] <= CapacityDict[i] for i in range(ArcCountWithDummyArcs)),name=\"Cap\")\n",
    "        \n",
    "    InfoThresholdConstraint = m1.addConstr(InfoCollected>=RequiredInfo,name=\"InfoT\")\n",
    "    \n",
    "    FlowCountOnArc = [0]*CommodityCount\n",
    "\n",
    "    for k in Commodities:\n",
    "        FlowCountOnArc[k-1] = [0]*ArcCountWithDummyArcs\n",
    "        for p in PathSetForCommodity[k]:\n",
    "            for i in range(len(Delta_ij_p[p])):\n",
    "                if Delta_ij_p[p][i] == 1:\n",
    "                    FlowCountOnArc[k-1][i] += BigM * Flow[p,k]\n",
    "    \n",
    "    InfoOnlyWithFlowConstraint = m1.addConstrs(((FlowCountOnArc[k-1][i] - Y[i,k]) >= 0 for i in range(ArcCountWithDummyArcs)for k in Commodities),name=\"InfoWithFlow\")\n",
    "    \n",
    "    FlowConstraint = m1.addConstrs(((Flow.sum('*',k))==1 for k in Commodities),name=\"FlowPart\")\n",
    "\n",
    "    InfoRepeatConstraint = m1.addConstrs(((Y.sum(i,'*'))<=1 for i in range(ArcCountWithDummyArcs)),name=\"InfoSum\")\n",
    "    \n",
    "    m1.write(\"C:\\PhD IE\\Optimization Models for Large Networks\\path2.lp\")\n",
    "#     print(InfoThresholdConstraint)\n",
    "    m1.optimize()\n",
    "    \n",
    "    if m1.Status == GRB.OPTIMAL:\n",
    "        OptimalFlow = m1.getAttr('X',Flow)\n",
    "        ReducedCosts = m1.getAttr('RC',Flow)\n",
    "#         print(ReducedCosts)\n",
    "        Pi_ij = m1.getAttr('Pi',CapacityConstraint)\n",
    "        ThresholdDual = m1.getConstrByName(\"InfoT\")\n",
    "        W = ThresholdDual.Pi\n",
    "        Sigma = m1.getAttr('Pi',FlowConstraint)\n",
    "        U = m1.getAttr('Pi',InfoOnlyWithFlowConstraint)\n",
    "        V = m1.getAttr('Pi',InfoRepeatConstraint)\n",
    "        for k in Commodities:\n",
    "            for p in PathSetForCommodity[k]:\n",
    "                if OptimalFlow[p,k] != 0:\n",
    "                    print(\"Flow on path\",p,\"by commodity\",k,\"=\",OptimalFlow[p,k]*B_k_Dict[k],\"units.\")\n",
    "    return Pi_ij,W,Sigma,U,V"
   ]
  },
  {
   "cell_type": "code",
   "execution_count": 37,
   "id": "4b8906ba",
   "metadata": {},
   "outputs": [
    {
     "name": "stdout",
     "output_type": "stream",
     "text": [
      "Set parameter Username\n",
      "Academic license - for non-commercial use only - expires 2024-02-01\n",
      "Gurobi Optimizer version 9.5.2 build v9.5.2rc0 (win64)\n",
      "Thread count: 10 physical cores, 12 logical processors, using up to 12 threads\n",
      "Optimize a model with 46 rows, 25 columns and 55 nonzeros\n",
      "Model fingerprint: 0xee3a40b3\n",
      "Coefficient statistics:\n",
      "  Matrix range     [1e+00, 2e+01]\n",
      "  Objective range  [7e+01, 2e+03]\n",
      "  Bounds range     [0e+00, 0e+00]\n",
      "  RHS range        [1e+00, 4e+02]\n",
      "Presolve removed 46 rows and 25 columns\n",
      "Presolve time: 0.00s\n",
      "Presolve: All rows and columns removed\n",
      "Iteration    Objective       Primal Inf.    Dual Inf.      Time\n",
      "       0    4.6390000e+03   0.000000e+00   0.000000e+00      0s\n",
      "\n",
      "Solved in 0 iterations and 0.00 seconds (0.00 work units)\n",
      "Optimal objective  4.639000000e+03\n",
      "Flow on path 0 by commodity 1 = 15.0 units.\n",
      "Flow on path 1 by commodity 2 = 10.0 units.\n",
      "Flow on path 2 by commodity 3 = 6.0 units.\n",
      "Flow on path 3 by commodity 4 = 6.0 units.\n",
      "Flow on path 4 by commodity 5 = 6.0 units.\n"
     ]
    }
   ],
   "source": [
    "IterationCounter = 0\n",
    "Pi_ijWithArcNumber,W,Sigma = PathModel()"
   ]
  },
  {
   "cell_type": "code",
   "execution_count": 38,
   "id": "89170540",
   "metadata": {},
   "outputs": [],
   "source": [
    "# Pi_ijWithArcNumber, W, Sigma, U, V = PathModel2()"
   ]
  },
  {
   "cell_type": "code",
   "execution_count": 39,
   "id": "c6065c50",
   "metadata": {},
   "outputs": [
    {
     "name": "stdout",
     "output_type": "stream",
     "text": [
      "Pi= {(1, 2): 0.0, (1, 4): 0.0, (1, 6): 0.0, (1, 7): 0.0, (1, 8): 0.0, (2, 4): 0.0, (2, 7): 0.0, (2, 8): 0.0, (3, 5): 0.0, (3, 6): 0.0, (4, 5): 0.0, (4, 7): 0.0, (4, 8): 0.0, (5, 7): 0.0, (5, 8): 0.0, (6, 7): 0.0, (6, 8): 0.0, (7, 8): 0.0, (2, 5): 0.0, (3, 7): 0.0}\n",
      "W= 0.0\n",
      "Sigma= {1: 75.0, 2: 160.0, 3: 2166.0, 4: 72.0, 5: 2166.0}\n"
     ]
    }
   ],
   "source": [
    "Pi_ij = {ArcDict[i]:0 for i in range(ArcCountWithDummyArcs)}\n",
    "\n",
    "for i in range(ArcCountWithDummyArcs):\n",
    "    Pi_ij[ArcDict[i]] = Pi_ijWithArcNumber[i]\n",
    "\n",
    "print(\"Pi=\",Pi_ij)\n",
    "print(\"W=\",W)\n",
    "print(\"Sigma=\",Sigma)"
   ]
  },
  {
   "cell_type": "code",
   "execution_count": 40,
   "id": "d2e4bd21",
   "metadata": {},
   "outputs": [
    {
     "data": {
      "text/plain": [
       "{(1, 2): 0,\n",
       " (1, 4): 1,\n",
       " (1, 6): 2,\n",
       " (1, 7): 3,\n",
       " (1, 8): 4,\n",
       " (2, 4): 5,\n",
       " (2, 7): 6,\n",
       " (2, 8): 7,\n",
       " (3, 5): 8,\n",
       " (3, 6): 9,\n",
       " (4, 5): 10,\n",
       " (4, 7): 11,\n",
       " (4, 8): 12,\n",
       " (5, 7): 13,\n",
       " (5, 8): 14,\n",
       " (6, 7): 15,\n",
       " (6, 8): 16,\n",
       " (7, 8): 17,\n",
       " (2, 5): 18,\n",
       " (3, 7): 19}"
      ]
     },
     "execution_count": 40,
     "metadata": {},
     "output_type": "execute_result"
    }
   ],
   "source": [
    "ReversedArcDict = {ArcDict[i]:i for i in range(ArcCountWithDummyArcs)}\n",
    "ReversedArcDict"
   ]
  },
  {
   "cell_type": "code",
   "execution_count": 41,
   "id": "5f3a8057",
   "metadata": {},
   "outputs": [],
   "source": [
    "def ReducedCostCompute(Pi_ijWithArcNumber,W,Sigma):\n",
    "    ReducedCost = {k:[] for k in Commodities}\n",
    "    \n",
    "    for k in Commodities:\n",
    "        ReducedCost[k] = [0]*ArcCountWithDummyArcs\n",
    "    \n",
    "    for k in Commodities:\n",
    "        for i in range(ArcCountWithDummyArcs):\n",
    "            for p in Paths:\n",
    "                ReducedCost[k][i] += B_k_Dict[k]*CostDict[i]*Delta_ij_p[p][i] - B_k_Dict[k]*Pi_ijWithArcNumber[i]*Delta_ij_p[p][i] - W * InfoDict[i] #- Sigma[k]\n",
    "            \n",
    "    return ReducedCost"
   ]
  },
  {
   "cell_type": "code",
   "execution_count": 42,
   "id": "8770c896",
   "metadata": {},
   "outputs": [],
   "source": [
    "def BellmanFord(src,k,ReducedCost,Pi_ijWithArcNumber,W,Sigma):\n",
    "\n",
    "    dist = [float(\"Inf\")] * NodeCount\n",
    "    prev = [-1] * NodeCount\n",
    "    dist[src-1] = 0\n",
    "    prev[src-1] = 0\n",
    "\n",
    "    for _ in range(NodeCount - 1):\n",
    "\n",
    "        for u in N:\n",
    "            for v in NodeNodeAdjacencyList[u]:\n",
    "#                 print(u,v,k,ReversedArcDict[(u,v)])\n",
    "                if dist[u-1] != float(\"Inf\") and dist[u-1] + ReducedCost[k][ReversedArcDict[(u,v)]] < dist[v-1]:\n",
    "                    dist[v-1] = dist[u-1] + ReducedCost[k][ReversedArcDict[(u,v)]]\n",
    "                    prev[v-1] = u-1\n",
    "\n",
    "    for u in N:\n",
    "        for v in NodeNodeAdjacencyList[u]:\n",
    "            if dist[u-1] != float(\"Inf\") and dist[u-1] + ReducedCost[k][ReversedArcDict[(u,v)]] < dist[v-1]:\n",
    "                print(\"Graph contains negative weight cycle\")\n",
    "                return\n",
    "\n",
    "    return dist, prev;\n",
    "    "
   ]
  },
  {
   "cell_type": "code",
   "execution_count": 43,
   "id": "136e9e10",
   "metadata": {},
   "outputs": [],
   "source": [
    "# Distance = [0]*NodeCount\n",
    "# Prev = [0]*NodeCount\n"
   ]
  },
  {
   "cell_type": "code",
   "execution_count": 44,
   "id": "111f9bf5",
   "metadata": {},
   "outputs": [],
   "source": [
    "# Distance, Previous = BellmanFord(Origin[0],1)\n",
    "# Destination"
   ]
  },
  {
   "cell_type": "code",
   "execution_count": 45,
   "id": "f0e09735",
   "metadata": {},
   "outputs": [],
   "source": [
    "def MinReducedCostPath(Pi_ijWithArcNumber,W,Sigma):\n",
    "\n",
    "    ReducedCost = ReducedCostCompute(Pi_ijWithArcNumber,W,Sigma) \n",
    "#     print(\"Reduced Costs:\",ReducedCost)\n",
    "    SP = [0]*CommodityCount\n",
    "\n",
    "    for k in Commodities:\n",
    "\n",
    "        Distance, Previous = BellmanFord(Origin[k-1],k,ReducedCost,Pi_ijWithArcNumber,W,Sigma)\n",
    "        for i in range(len(Distance)):\n",
    "            Distance[i] -= Sigma[k] \n",
    "#         print(Distance,Previous)\n",
    "        \n",
    "        if Distance[Destination[k-1]-1] < 0:\n",
    "\n",
    "            SPTemp = [Destination[k-1]]\n",
    "            T = Destination[k-1]-1\n",
    "\n",
    "            while T!=Origin[k-1]-1:\n",
    "\n",
    "                T = Previous[T]\n",
    "                SPTemp.insert(0,T+1)\n",
    "\n",
    "            SP[k-1] = SPTemp\n",
    "\n",
    "    return SP"
   ]
  },
  {
   "cell_type": "code",
   "execution_count": 46,
   "id": "5c009cd1",
   "metadata": {},
   "outputs": [],
   "source": [
    "def Pricing(Pi_ijWithArcNumber,W,Sigma):\n",
    "    ShortestPath = MinReducedCostPath(Pi_ijWithArcNumber,W,Sigma)\n",
    "#     for k in range(CommodityCount):\n",
    "#         ShortestPath[k] -= Sigma[k+1]\n",
    "#     print(\"SP,O,D:\",ShortestPath,Origin,Destination,\"\\n\")\n",
    "    NewPathCtr = 0\n",
    "    PathLength = len(Paths)\n",
    "    for k in range(CommodityCount):\n",
    "#         VarCount = 0\n",
    "        if ShortestPath[k] != 0:\n",
    "\n",
    "#             for i in range(len(NodesInPath)):\n",
    "#                 if NodesInPath[i] != ShortestPath[k]:\n",
    "                    NewPathCtr += 1\n",
    "                    Paths.append(PathLength-1+NewPathCtr)\n",
    "                    PathSetForCommodity[k+1].append(PathLength-1+NewPathCtr)\n",
    "                    NodesInPath[PathLength-1+NewPathCtr] = ShortestPath[k]\n",
    "                    PathDict[PathLength-1+NewPathCtr] = []\n",
    "                    PathCost[PathLength-1+NewPathCtr] = 0\n",
    "                    PathInfo[PathLength-1+NewPathCtr] = 0\n",
    "                    Delta_ij_p[PathLength-1+NewPathCtr] = [0]*ArcCountWithDummyArcs\n",
    "\n",
    "                    for i in range(len(ShortestPath[k])-1):\n",
    "                        PathDict[PathLength-1+NewPathCtr].append((ShortestPath[k][i],ShortestPath[k][i+1]))\n",
    "                        PathCost[PathLength-1+NewPathCtr] += CostDict[ReversedArcDict[(ShortestPath[k][i],ShortestPath[k][i+1])]]\n",
    "                        PathInfo[PathLength-1+NewPathCtr] += InfoDict[ReversedArcDict[(ShortestPath[k][i],ShortestPath[k][i+1])]]\n",
    "\n",
    "                    for p in range(len(Paths)):\n",
    "                        for i in range(len(ArcDict)):\n",
    "                            if ArcDict[i] in PathDict[p]:\n",
    "                                Delta_ij_p[p][i]=1\n",
    "    return NewPathCtr"
   ]
  },
  {
   "cell_type": "code",
   "execution_count": null,
   "id": "03b7de0b",
   "metadata": {},
   "outputs": [],
   "source": []
  },
  {
   "cell_type": "code",
   "execution_count": 47,
   "id": "3891ed5e",
   "metadata": {},
   "outputs": [
    {
     "name": "stdout",
     "output_type": "stream",
     "text": [
      "\n",
      "Iteration 2 had 3 paths added.\n",
      "\n",
      "\n",
      "Gurobi Optimizer version 9.5.2 build v9.5.2rc0 (win64)\n",
      "Thread count: 10 physical cores, 12 logical processors, using up to 12 threads\n",
      "Optimize a model with 58 rows, 40 columns and 91 nonzeros\n",
      "Model fingerprint: 0x76186eec\n",
      "Coefficient statistics:\n",
      "  Matrix range     [1e+00, 2e+01]\n",
      "  Objective range  [7e+01, 2e+03]\n",
      "  Bounds range     [0e+00, 0e+00]\n",
      "  RHS range        [1e+00, 4e+02]\n",
      "Presolve removed 58 rows and 40 columns\n",
      "Presolve time: 0.00s\n",
      "Presolve: All rows and columns removed\n",
      "Iteration    Objective       Primal Inf.    Dual Inf.      Time\n",
      "       0    2.2020000e+03   0.000000e+00   0.000000e+00      0s\n",
      "\n",
      "Solved in 0 iterations and 0.02 seconds (0.00 work units)\n",
      "Optimal objective  2.202000000e+03\n",
      "Flow on path 0 by commodity 1 = 15.0 units.\n",
      "Flow on path 1 by commodity 2 = 10.0 units.\n",
      "Flow on path 5 by commodity 3 = 6.0 units.\n",
      "Flow on path 3 by commodity 4 = 6.0 units.\n",
      "Flow on path 4 by commodity 5 = 5.0 units.\n",
      "Flow on path 7 by commodity 5 = 1.0 units.\n",
      "No new path added in iteration 2 \n",
      "Solution is optimal.\n"
     ]
    }
   ],
   "source": [
    "NewPathCtr = Pricing(Pi_ijWithArcNumber,W,Sigma)\n",
    "# print(NewPathCtr, Paths)\n",
    "IterationCounter = 1\n",
    "\n",
    "while (NewPathCtr != 0) and IterationCounter < min(CommodityCount*CommodityCount,10*CommodityCount):\n",
    "    IterationCounter += 1\n",
    "    print(\"\\nIteration\",IterationCounter, \"had\", NewPathCtr,\"paths added.\\n\\n\")\n",
    "    Pi_ijWithArcNumber,W,Sigma = PathModel()\n",
    "#     print(Pi_ijWithArcNumber)\n",
    "#     print(W)\n",
    "#     print(Sigma)\n",
    "    NewPathCtr = Pricing(Pi_ijWithArcNumber,W,Sigma)\n",
    "#     print(NewPathCtr, Paths)\n",
    "print(\"No new path added in iteration\",IterationCounter,\"\\nSolution is optimal.\")\n"
   ]
  },
  {
   "cell_type": "code",
   "execution_count": null,
   "id": "bb1d51de",
   "metadata": {},
   "outputs": [],
   "source": []
  },
  {
   "cell_type": "code",
   "execution_count": 48,
   "id": "1fb5c551",
   "metadata": {},
   "outputs": [
    {
     "data": {
      "text/plain": [
       "{0: [(4, 5)],\n",
       " 1: [(3, 5)],\n",
       " 2: [(3, 7)],\n",
       " 3: [(4, 7)],\n",
       " 4: [(2, 5)],\n",
       " 5: [(3, 6), (6, 7)],\n",
       " 6: [(4, 5), (5, 7)],\n",
       " 7: [(2, 4), (4, 5)]}"
      ]
     },
     "execution_count": 48,
     "metadata": {},
     "output_type": "execute_result"
    }
   ],
   "source": [
    "PathDict"
   ]
  }
 ],
 "metadata": {
  "kernelspec": {
   "display_name": "Python 3 (ipykernel)",
   "language": "python",
   "name": "python3"
  },
  "language_info": {
   "codemirror_mode": {
    "name": "ipython",
    "version": 3
   },
   "file_extension": ".py",
   "mimetype": "text/x-python",
   "name": "python",
   "nbconvert_exporter": "python",
   "pygments_lexer": "ipython3",
   "version": "3.9.13"
  }
 },
 "nbformat": 4,
 "nbformat_minor": 5
}
